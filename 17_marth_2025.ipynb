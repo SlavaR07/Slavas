{
  "nbformat": 4,
  "nbformat_minor": 0,
  "metadata": {
    "colab": {
      "provenance": [],
      "authorship_tag": "ABX9TyO1mHFTqD0TasRweBa8z3HE",
      "include_colab_link": true
    },
    "kernelspec": {
      "name": "python3",
      "display_name": "Python 3"
    },
    "language_info": {
      "name": "python"
    }
  },
  "cells": [
    {
      "cell_type": "markdown",
      "metadata": {
        "id": "view-in-github",
        "colab_type": "text"
      },
      "source": [
        "<a href=\"https://colab.research.google.com/github/SlavaR07/Slavas/blob/main/17_marth_2025.ipynb\" target=\"_parent\"><img src=\"https://colab.research.google.com/assets/colab-badge.svg\" alt=\"Open In Colab\"/></a>"
      ]
    },
    {
      "cell_type": "code",
      "execution_count": 132,
      "metadata": {
        "id": "pf80htcUpgrQ",
        "colab": {
          "base_uri": "https://localhost:8080/"
        },
        "outputId": "24fcbfc2-5635-4ec9-c9fe-781a1882dcac"
      },
      "outputs": [
        {
          "output_type": "stream",
          "name": "stdout",
          "text": [
            "[[ 0.9845149   1.95211539]\n",
            " [ 1.65209057  2.12010873]\n",
            " [ 1.7373078   4.42546234]\n",
            " [ 2.47034915  4.09862906]\n",
            " [ 2.12178474  1.20013556]\n",
            " [ 3.19466821 -0.33716216]\n",
            " [ 3.93841822 -0.4500954 ]\n",
            " [ 2.06576754  2.68353415]\n",
            " [ 2.02708529  1.32599553]\n",
            " [-0.73000011  6.25456272]\n",
            " [ 2.20656076  5.50616718]\n",
            " [-0.27652528  5.08127768]\n",
            " [ 1.1312175   4.68194985]\n",
            " [ 1.18447037  0.318814  ]\n",
            " [ 1.84070628  3.56162231]\n",
            " [ 1.28933778  3.44969159]\n",
            " [ 0.58894326  4.00148458]\n",
            " [ 2.45760916  0.21285357]\n",
            " [ 0.08848433  2.32299086]\n",
            " [ 0.87305123  4.71438583]\n",
            " [ 1.42094543  0.53492249]\n",
            " [ 2.41163392  1.60423683]\n",
            " [ 1.14796916  0.94960906]\n",
            " [ 1.38280707  0.5381105 ]\n",
            " [ 2.78435808  1.02664657]\n",
            " [ 3.2460247   2.84942165]\n",
            " [ 0.4666179   3.86571303]\n",
            " [-1.57671974  4.95740592]\n",
            " [ 2.23269366  0.49588272]\n",
            " [ 2.84382807  3.32650945]\n",
            " [ 2.2635425   1.8743027 ]\n",
            " [ 0.08080352  4.69068983]\n",
            " [ 1.42013331  4.63746165]\n",
            " [-0.63762777  4.09104705]\n",
            " [ 2.50904929  5.7731461 ]\n",
            " [ 1.74371499  0.953829  ]\n",
            " [ 2.18217961  1.29965302]\n",
            " [ 1.12031365  5.75806083]\n",
            " [ 2.52092996 -0.63858003]\n",
            " [ 0.46546494  3.12315514]\n",
            " [ 0.42506917  1.36044592]\n",
            " [ 1.9263585   4.15243012]\n",
            " [ 1.24212124 -0.82861894]\n",
            " [ 0.89011768  1.79849015]\n",
            " [ 1.0220286   4.11660348]\n",
            " [ 0.78478252  1.86706037]\n",
            " [ 3.54351972  2.79355284]\n",
            " [-0.07228289  2.88376939]\n",
            " [ 3.23404709  0.71773882]\n",
            " [ 0.62835793  4.4601363 ]]\n"
          ]
        }
      ],
      "source": [
        "from matplotlib import pyplot as plt\n",
        "from sklearn.datasets import make_blobs\n",
        "N = 50\n",
        "data, labels = make_blobs(n_samples = 50, centers = 2, random_state = 0)\n",
        "print(data)"
      ]
    },
    {
      "cell_type": "code",
      "source": [
        "print(labels)"
      ],
      "metadata": {
        "colab": {
          "base_uri": "https://localhost:8080/"
        },
        "id": "9O-BQ6fAsoIA",
        "outputId": "ecb6d80d-2ce5-4277-ffec-1211c73f76be"
      },
      "execution_count": 111,
      "outputs": [
        {
          "output_type": "stream",
          "name": "stdout",
          "text": [
            "[1 1 0 0 1 1 1 1 1 0 0 0 0 1 0 0 0 1 0 0 1 1 1 1 1 0 0 0 1 0 1 0 0 0 0 1 1\n",
            " 0 1 0 1 0 1 1 0 1 1 0 1 0]\n"
          ]
        }
      ]
    },
    {
      "cell_type": "code",
      "source": [
        "def plot(data, labels):\n",
        "  x1 = data[labels==0, 0]\n",
        "  x2 = data[labels==1, 0]\n",
        "  y1 = data[labels==0, 1]\n",
        "  y2 = data[labels==1, 1]\n",
        "  plt.scatter(x1, y1, color='red')\n",
        "  plt.scatter(x2, y2, color='green')"
      ],
      "metadata": {
        "id": "rkbGJudeswId"
      },
      "execution_count": 146,
      "outputs": []
    },
    {
      "cell_type": "code",
      "source": [],
      "metadata": {
        "id": "bnvVNCGVudR1"
      },
      "execution_count": 112,
      "outputs": []
    },
    {
      "cell_type": "code",
      "source": [
        "def plot_c(data, labels, xc1, yc1, xc2, yc2):\n",
        "  x1 = data[labels==0, 0]\n",
        "  x2 = data[labels==1, 0]\n",
        "  y1 = data[labels==0, 1]\n",
        "  y2 = data[labels==1, 1]\n",
        "  plt.scatter(x1, y1, color='lightcoral')\n",
        "  plt.scatter(x2, y2, color='lime')\n",
        "  plt.scatter(xc1, yc1, color='red')\n",
        "  plt.scatter(xc2, yc2, color='green')"
      ],
      "metadata": {
        "id": "QQJuLfbhs5O-"
      },
      "execution_count": 134,
      "outputs": []
    },
    {
      "cell_type": "code",
      "source": [],
      "metadata": {
        "id": "3uB8al4RtE9N"
      },
      "execution_count": 113,
      "outputs": []
    },
    {
      "cell_type": "code",
      "source": [
        "plt.scatter(x1, y1, color='red')\n",
        "plt.scatter(x2, y2, color='green')"
      ],
      "metadata": {
        "colab": {
          "base_uri": "https://localhost:8080/",
          "height": 448
        },
        "id": "eTgf0f2rtGXd",
        "outputId": "f6a32a88-9fe4-470e-8b7f-27b6d738dcd9"
      },
      "execution_count": 135,
      "outputs": [
        {
          "output_type": "execute_result",
          "data": {
            "text/plain": [
              "<matplotlib.collections.PathCollection at 0x7816cd50bcd0>"
            ]
          },
          "metadata": {},
          "execution_count": 135
        },
        {
          "output_type": "display_data",
          "data": {
            "text/plain": [
              "<Figure size 640x480 with 1 Axes>"
            ],
            "image/png": "[encoded data removed]"
          },
          "metadata": {}
        }
      ]
    },
    {
      "cell_type": "code",
      "source": [
        "import numpy as np\n",
        "\n",
        "clusters = np.zeros(N)\n",
        "clusters"
      ],
      "metadata": {
        "colab": {
          "base_uri": "https://localhost:8080/"
        },
        "id": "UkGN5_p0t4sV",
        "outputId": "f77f98c9-2cdf-476a-dc28-73114ffe9f8b"
      },
      "execution_count": 115,
      "outputs": [
        {
          "output_type": "execute_result",
          "data": {
            "text/plain": [
              "array([0., 0., 0., 0., 0., 0., 0., 0., 0., 0., 0., 0., 0., 0., 0., 0., 0.,\n",
              "       0., 0., 0., 0., 0., 0., 0., 0., 0., 0., 0., 0., 0., 0., 0., 0., 0.,\n",
              "       0., 0., 0., 0., 0., 0., 0., 0., 0., 0., 0., 0., 0., 0., 0., 0.])"
            ]
          },
          "metadata": {},
          "execution_count": 115
        }
      ]
    },
    {
      "cell_type": "code",
      "source": [
        "import random\n",
        "\n",
        "i1 = random.randint(1, N)\n",
        "i2 = random.randint(1, N)\n",
        "\n",
        "xc1, yc1 = data[i1][0], data[i1][1]\n",
        "xc2, yc2 = data[i2][0], data[i2][1]"
      ],
      "metadata": {
        "id": "naQP1XDSvMbF"
      },
      "execution_count": 116,
      "outputs": []
    },
    {
      "cell_type": "code",
      "source": [
        "plot_c(data,clasters,xc1, yc1, xc2, yc2 )"
      ],
      "metadata": {
        "id": "m6lrYGSHwFzd"
      },
      "execution_count": 117,
      "outputs": []
    },
    {
      "cell_type": "code",
      "source": [
        "import math\n",
        "\n",
        "def dist(x1, y1, x2, y2):\n",
        "  return math.sqrt((x2-x1)**2 + (y2 - y1)**2)"
      ],
      "metadata": {
        "id": "B6ecIuSnxhRF"
      },
      "execution_count": 141,
      "outputs": []
    },
    {
      "cell_type": "code",
      "source": [
        "dist(1, 2, 3, 4)"
      ],
      "metadata": {
        "colab": {
          "base_uri": "https://localhost:8080/"
        },
        "id": "eqDue8fcx8b9",
        "outputId": "0ff77239-87df-4ba2-acbb-104b547bfd26"
      },
      "execution_count": 119,
      "outputs": [
        {
          "output_type": "execute_result",
          "data": {
            "text/plain": [
              "2.8284271247461903"
            ]
          },
          "metadata": {},
          "execution_count": 119
        }
      ]
    },
    {
      "cell_type": "code",
      "source": [
        "def new_clusters(data, clusters, xc1, yc1, xc2, yc2):\n",
        "  for i in range(len(data)):\n",
        "    p = data[i]\n",
        "    d1 = dist(p[0], p[1], xc1, yc1)\n",
        "    d2 = dist(p[0], p[1], xc2, yc2)\n",
        "    if d1 < d2:\n",
        "      clusters[i] = 0\n",
        "    else:\n",
        "      clusters[i] = 1\n",
        "  return clusters"
      ],
      "metadata": {
        "id": "D5dyjQJ1yHDd"
      },
      "execution_count": 142,
      "outputs": []
    },
    {
      "cell_type": "code",
      "source": [
        " cl2 = new_clusters(data, clusters, xc1, yc1, xc2, yc2)\n",
        " plot_c(data, cl2, xc1, yc1, xc2, yc2)"
      ],
      "metadata": {
        "id": "IaLV4VeFzWfd"
      },
      "execution_count": 121,
      "outputs": []
    },
    {
      "cell_type": "code",
      "source": [
        "def update_centers(data, clusters):\n",
        "  x1 = data[clusters==0, 0]\n",
        "  x2 = data[clusters==1, 0]\n",
        "  y1 = data[clusters==0, 1]\n",
        "  y2 = data[clusters==1, 1]\n",
        "  xc1 = np.average(x1)\n",
        "  xc2 = np.average(x2)\n",
        "  yc1 = np.average(y1)\n",
        "  yc2 = np.average(y2)\n",
        "  return xc1, yc1, xc2, yc2"
      ],
      "metadata": {
        "id": "LMHJbs5E1P4F"
      },
      "execution_count": 143,
      "outputs": []
    },
    {
      "cell_type": "code",
      "source": [],
      "metadata": {
        "id": "9YHVmrEg2W6H"
      },
      "execution_count": 122,
      "outputs": []
    },
    {
      "cell_type": "code",
      "source": [
        "def clusterization(data, max_iter):\n",
        "  N = len(data)\n",
        "  clusters = np.zeros(N)\n",
        "\n",
        "  i1 = random.randint(1, N)\n",
        "  i2 = random.randint(1, N)\n",
        "  xc1, yc1 = data[i1][0], data[i1][1]\n",
        "  xc2, yc2 = data[i2][0], data[i2][1]\n",
        "  for i in range(max_iter):\n",
        "    clusters = new_clusters(data, clusters, xc1, yc1, xc2, yc2)\n",
        "    xc1, yc1, xc2, yc2 = update_centers(data, clusters)\n",
        "  return clusters"
      ],
      "metadata": {
        "id": "2bQEZXlg0Spe"
      },
      "execution_count": 139,
      "outputs": []
    },
    {
      "cell_type": "code",
      "source": [
        "data"
      ],
      "metadata": {
        "colab": {
          "base_uri": "https://localhost:8080/"
        },
        "id": "CF9F1aKe54Tt",
        "outputId": "3895cd50-f279-4095-b482-e194ec6971b7"
      },
      "execution_count": 145,
      "outputs": [
        {
          "output_type": "execute_result",
          "data": {
            "text/plain": [
              "array([[ 0.9845149 ,  1.95211539],\n",
              "       [ 1.65209057,  2.12010873],\n",
              "       [ 1.7373078 ,  4.42546234],\n",
              "       [ 2.47034915,  4.09862906],\n",
              "       [ 2.12178474,  1.20013556],\n",
              "       [ 3.19466821, -0.33716216],\n",
              "       [ 3.93841822, -0.4500954 ],\n",
              "       [ 2.06576754,  2.68353415],\n",
              "       [ 2.02708529,  1.32599553],\n",
              "       [-0.73000011,  6.25456272],\n",
              "       [ 2.20656076,  5.50616718],\n",
              "       [-0.27652528,  5.08127768],\n",
              "       [ 1.1312175 ,  4.68194985],\n",
              "       [ 1.18447037,  0.318814  ],\n",
              "       [ 1.84070628,  3.56162231],\n",
              "       [ 1.28933778,  3.44969159],\n",
              "       [ 0.58894326,  4.00148458],\n",
              "       [ 2.45760916,  0.21285357],\n",
              "       [ 0.08848433,  2.32299086],\n",
              "       [ 0.87305123,  4.71438583],\n",
              "       [ 1.42094543,  0.53492249],\n",
              "       [ 2.41163392,  1.60423683],\n",
              "       [ 1.14796916,  0.94960906],\n",
              "       [ 1.38280707,  0.5381105 ],\n",
              "       [ 2.78435808,  1.02664657],\n",
              "       [ 3.2460247 ,  2.84942165],\n",
              "       [ 0.4666179 ,  3.86571303],\n",
              "       [-1.57671974,  4.95740592],\n",
              "       [ 2.23269366,  0.49588272],\n",
              "       [ 2.84382807,  3.32650945],\n",
              "       [ 2.2635425 ,  1.8743027 ],\n",
              "       [ 0.08080352,  4.69068983],\n",
              "       [ 1.42013331,  4.63746165],\n",
              "       [-0.63762777,  4.09104705],\n",
              "       [ 2.50904929,  5.7731461 ],\n",
              "       [ 1.74371499,  0.953829  ],\n",
              "       [ 2.18217961,  1.29965302],\n",
              "       [ 1.12031365,  5.75806083],\n",
              "       [ 2.52092996, -0.63858003],\n",
              "       [ 0.46546494,  3.12315514],\n",
              "       [ 0.42506917,  1.36044592],\n",
              "       [ 1.9263585 ,  4.15243012],\n",
              "       [ 1.24212124, -0.82861894],\n",
              "       [ 0.89011768,  1.79849015],\n",
              "       [ 1.0220286 ,  4.11660348],\n",
              "       [ 0.78478252,  1.86706037],\n",
              "       [ 3.54351972,  2.79355284],\n",
              "       [-0.07228289,  2.88376939],\n",
              "       [ 3.23404709,  0.71773882],\n",
              "       [ 0.62835793,  4.4601363 ]])"
            ]
          },
          "metadata": {},
          "execution_count": 145
        }
      ]
    },
    {
      "cell_type": "code",
      "source": [
        "result"
      ],
      "metadata": {
        "colab": {
          "base_uri": "https://localhost:8080/"
        },
        "id": "pVnubpmy51R0",
        "outputId": "d8472a42-1f25-47d3-d652-001574554464"
      },
      "execution_count": 144,
      "outputs": [
        {
          "output_type": "execute_result",
          "data": {
            "text/plain": [
              "array([0., 0., 1., 1., 0., 0., 0., 0., 0., 1., 1., 1., 1., 0., 1., 1., 1.,\n",
              "       0., 0., 1., 0., 0., 0., 0., 0., 0., 1., 1., 0., 1., 0., 1., 1., 1.,\n",
              "       1., 0., 0., 1., 0., 1., 0., 1., 0., 0., 1., 0., 0., 1., 0., 1.])"
            ]
          },
          "metadata": {},
          "execution_count": 144
        }
      ]
    },
    {
      "cell_type": "code",
      "source": [
        "result = clusterization(data, 50)\n",
        "plot(data,result)"
      ],
      "metadata": {
        "colab": {
          "base_uri": "https://localhost:8080/",
          "height": 430
        },
        "id": "s4mCner11OZP",
        "outputId": "363db7b5-aa4f-4292-b696-786b23b24d6a"
      },
      "execution_count": 147,
      "outputs": [
        {
          "output_type": "display_data",
          "data": {
            "text/plain": [
              "<Figure size 640x480 with 1 Axes>"
            ],
            "image/png": "[encoded data removed]"
          },
          "metadata": {}
        }
      ]
    },
    {
      "cell_type": "code",
      "source": [],
      "metadata": {
        "id": "lRGKeZ644xgu"
      },
      "execution_count": null,
      "outputs": []
    }
  ]
}